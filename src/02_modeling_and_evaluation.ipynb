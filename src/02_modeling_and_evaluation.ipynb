{
 "cells": [
  {
   "cell_type": "markdown",
   "id": "a1c3613e",
   "metadata": {},
   "source": [
    "# 1. Preparación de Entorno. "
   ]
  },
  {
   "cell_type": "code",
   "execution_count": 1,
   "id": "74250321",
   "metadata": {},
   "outputs": [],
   "source": [
    "import pandas as pd\n",
    "import matplotlib.pyplot as plt\n",
    "import seaborn as sns\n",
    "from datetime import datetime\n",
    "import numpy as np"
   ]
  },
  {
   "cell_type": "markdown",
   "id": "10aa952b",
   "metadata": {},
   "source": [
    "# 2. Carga de Datos. "
   ]
  },
  {
   "cell_type": "markdown",
   "id": "92184eb3",
   "metadata": {},
   "source": [
    "## Acuíferos. "
   ]
  },
  {
   "cell_type": "code",
   "execution_count": null,
   "id": "60ce3a25",
   "metadata": {},
   "outputs": [
    {
     "data": {
      "text/html": [
       "<div>\n",
       "<style scoped>\n",
       "    .dataframe tbody tr th:only-of-type {\n",
       "        vertical-align: middle;\n",
       "    }\n",
       "\n",
       "    .dataframe tbody tr th {\n",
       "        vertical-align: top;\n",
       "    }\n",
       "\n",
       "    .dataframe thead th {\n",
       "        text-align: right;\n",
       "    }\n",
       "</style>\n",
       "<table border=\"1\" class=\"dataframe\">\n",
       "  <thead>\n",
       "    <tr style=\"text-align: right;\">\n",
       "      <th></th>\n",
       "      <th>Date</th>\n",
       "      <th>Value</th>\n",
       "      <th>Medition_Types</th>\n",
       "      <th>Location</th>\n",
       "    </tr>\n",
       "  </thead>\n",
       "  <tbody>\n",
       "    <tr>\n",
       "      <th>0</th>\n",
       "      <td>1999-01-01</td>\n",
       "      <td>0.0</td>\n",
       "      <td>1</td>\n",
       "      <td>1</td>\n",
       "    </tr>\n",
       "    <tr>\n",
       "      <th>1</th>\n",
       "      <td>2000-01-01</td>\n",
       "      <td>0.0</td>\n",
       "      <td>1</td>\n",
       "      <td>1</td>\n",
       "    </tr>\n",
       "    <tr>\n",
       "      <th>2</th>\n",
       "      <td>2001-01-01</td>\n",
       "      <td>0.0</td>\n",
       "      <td>1</td>\n",
       "      <td>1</td>\n",
       "    </tr>\n",
       "    <tr>\n",
       "      <th>3</th>\n",
       "      <td>2002-01-01</td>\n",
       "      <td>0.0</td>\n",
       "      <td>1</td>\n",
       "      <td>1</td>\n",
       "    </tr>\n",
       "    <tr>\n",
       "      <th>4</th>\n",
       "      <td>2003-01-01</td>\n",
       "      <td>0.0</td>\n",
       "      <td>1</td>\n",
       "      <td>1</td>\n",
       "    </tr>\n",
       "  </tbody>\n",
       "</table>\n",
       "</div>"
      ],
      "text/plain": [
       "         Date  Value  Medition_Types  Location\n",
       "0  1999-01-01    0.0               1         1\n",
       "1  2000-01-01    0.0               1         1\n",
       "2  2001-01-01    0.0               1         1\n",
       "3  2002-01-01    0.0               1         1\n",
       "4  2003-01-01    0.0               1         1"
      ]
     },
     "execution_count": 2,
     "metadata": {},
     "output_type": "execute_result"
    }
   ],
   "source": [
    "# Load the aquifer hydrology data\n",
    "df_aquifers = pd.read_csv(\"../data/processed/aquifers/aquifer_hydrology_data_clean.csv\")\n",
    "df_aquifers.head()"
   ]
  },
  {
   "cell_type": "markdown",
   "id": "acb37af5",
   "metadata": {},
   "source": [
    "## Lagos. "
   ]
  },
  {
   "cell_type": "code",
   "execution_count": 5,
   "id": "4bc869b8",
   "metadata": {},
   "outputs": [
    {
     "data": {
      "text/html": [
       "<div>\n",
       "<style scoped>\n",
       "    .dataframe tbody tr th:only-of-type {\n",
       "        vertical-align: middle;\n",
       "    }\n",
       "\n",
       "    .dataframe tbody tr th {\n",
       "        vertical-align: top;\n",
       "    }\n",
       "\n",
       "    .dataframe thead th {\n",
       "        text-align: right;\n",
       "    }\n",
       "</style>\n",
       "<table border=\"1\" class=\"dataframe\">\n",
       "  <thead>\n",
       "    <tr style=\"text-align: right;\">\n",
       "      <th></th>\n",
       "      <th>Date</th>\n",
       "      <th>Value</th>\n",
       "      <th>Measurement_Types</th>\n",
       "      <th>Location</th>\n",
       "    </tr>\n",
       "  </thead>\n",
       "  <tbody>\n",
       "    <tr>\n",
       "      <th>0</th>\n",
       "      <td>2002-06-03</td>\n",
       "      <td>0.0</td>\n",
       "      <td>1</td>\n",
       "      <td>1</td>\n",
       "    </tr>\n",
       "    <tr>\n",
       "      <th>1</th>\n",
       "      <td>2002-06-04</td>\n",
       "      <td>0.0</td>\n",
       "      <td>1</td>\n",
       "      <td>1</td>\n",
       "    </tr>\n",
       "    <tr>\n",
       "      <th>2</th>\n",
       "      <td>2002-06-05</td>\n",
       "      <td>0.0</td>\n",
       "      <td>1</td>\n",
       "      <td>1</td>\n",
       "    </tr>\n",
       "    <tr>\n",
       "      <th>3</th>\n",
       "      <td>2002-06-06</td>\n",
       "      <td>0.0</td>\n",
       "      <td>1</td>\n",
       "      <td>1</td>\n",
       "    </tr>\n",
       "    <tr>\n",
       "      <th>4</th>\n",
       "      <td>2002-06-07</td>\n",
       "      <td>0.0</td>\n",
       "      <td>1</td>\n",
       "      <td>1</td>\n",
       "    </tr>\n",
       "  </tbody>\n",
       "</table>\n",
       "</div>"
      ],
      "text/plain": [
       "         Date  Value  Measurement_Types  Location\n",
       "0  2002-06-03    0.0                  1         1\n",
       "1  2002-06-04    0.0                  1         1\n",
       "2  2002-06-05    0.0                  1         1\n",
       "3  2002-06-06    0.0                  1         1\n",
       "4  2002-06-07    0.0                  1         1"
      ]
     },
     "execution_count": 5,
     "metadata": {},
     "output_type": "execute_result"
    }
   ],
   "source": [
    "# Load the lake hydrology data\n",
    "df_lakes = pd.read_csv(\"../data/processed/lakes/lake_hydrology_data_clean.csv\")\n",
    "df_lakes.head()"
   ]
  },
  {
   "cell_type": "markdown",
   "id": "9ac5c2a6",
   "metadata": {},
   "source": [
    "## Ríos. "
   ]
  },
  {
   "cell_type": "code",
   "execution_count": 6,
   "id": "161a8432",
   "metadata": {},
   "outputs": [
    {
     "data": {
      "text/html": [
       "<div>\n",
       "<style scoped>\n",
       "    .dataframe tbody tr th:only-of-type {\n",
       "        vertical-align: middle;\n",
       "    }\n",
       "\n",
       "    .dataframe tbody tr th {\n",
       "        vertical-align: top;\n",
       "    }\n",
       "\n",
       "    .dataframe thead th {\n",
       "        text-align: right;\n",
       "    }\n",
       "</style>\n",
       "<table border=\"1\" class=\"dataframe\">\n",
       "  <thead>\n",
       "    <tr style=\"text-align: right;\">\n",
       "      <th></th>\n",
       "      <th>Date</th>\n",
       "      <th>Value</th>\n",
       "      <th>Measurement_Types</th>\n",
       "      <th>Location</th>\n",
       "    </tr>\n",
       "  </thead>\n",
       "  <tbody>\n",
       "    <tr>\n",
       "      <th>0</th>\n",
       "      <td>1998-01-01</td>\n",
       "      <td>0.0</td>\n",
       "      <td>1</td>\n",
       "      <td>1</td>\n",
       "    </tr>\n",
       "    <tr>\n",
       "      <th>1</th>\n",
       "      <td>1998-01-02</td>\n",
       "      <td>0.0</td>\n",
       "      <td>1</td>\n",
       "      <td>1</td>\n",
       "    </tr>\n",
       "    <tr>\n",
       "      <th>2</th>\n",
       "      <td>1998-01-03</td>\n",
       "      <td>0.0</td>\n",
       "      <td>1</td>\n",
       "      <td>1</td>\n",
       "    </tr>\n",
       "    <tr>\n",
       "      <th>3</th>\n",
       "      <td>1998-01-04</td>\n",
       "      <td>0.0</td>\n",
       "      <td>1</td>\n",
       "      <td>1</td>\n",
       "    </tr>\n",
       "    <tr>\n",
       "      <th>4</th>\n",
       "      <td>1998-01-05</td>\n",
       "      <td>0.0</td>\n",
       "      <td>1</td>\n",
       "      <td>1</td>\n",
       "    </tr>\n",
       "  </tbody>\n",
       "</table>\n",
       "</div>"
      ],
      "text/plain": [
       "         Date  Value  Measurement_Types  Location\n",
       "0  1998-01-01    0.0                  1         1\n",
       "1  1998-01-02    0.0                  1         1\n",
       "2  1998-01-03    0.0                  1         1\n",
       "3  1998-01-04    0.0                  1         1\n",
       "4  1998-01-05    0.0                  1         1"
      ]
     },
     "execution_count": 6,
     "metadata": {},
     "output_type": "execute_result"
    }
   ],
   "source": [
    "# Load the river hydrology data\n",
    "df_rivers = pd.read_csv(\"../data/processed/rivers/river_hydrology_data_clean.csv\")\n",
    "df_rivers.head()"
   ]
  },
  {
   "cell_type": "markdown",
   "id": "a0a0bc6b",
   "metadata": {},
   "source": [
    "## Manantiales. "
   ]
  },
  {
   "cell_type": "code",
   "execution_count": 7,
   "id": "c5e67633",
   "metadata": {},
   "outputs": [
    {
     "data": {
      "text/html": [
       "<div>\n",
       "<style scoped>\n",
       "    .dataframe tbody tr th:only-of-type {\n",
       "        vertical-align: middle;\n",
       "    }\n",
       "\n",
       "    .dataframe tbody tr th {\n",
       "        vertical-align: top;\n",
       "    }\n",
       "\n",
       "    .dataframe thead th {\n",
       "        text-align: right;\n",
       "    }\n",
       "</style>\n",
       "<table border=\"1\" class=\"dataframe\">\n",
       "  <thead>\n",
       "    <tr style=\"text-align: right;\">\n",
       "      <th></th>\n",
       "      <th>Date</th>\n",
       "      <th>Value</th>\n",
       "      <th>Measurement_Types</th>\n",
       "      <th>Location</th>\n",
       "    </tr>\n",
       "  </thead>\n",
       "  <tbody>\n",
       "    <tr>\n",
       "      <th>0</th>\n",
       "      <td>2000-01-01</td>\n",
       "      <td>0.0</td>\n",
       "      <td>1</td>\n",
       "      <td>1</td>\n",
       "    </tr>\n",
       "    <tr>\n",
       "      <th>1</th>\n",
       "      <td>2001-01-01</td>\n",
       "      <td>0.0</td>\n",
       "      <td>1</td>\n",
       "      <td>1</td>\n",
       "    </tr>\n",
       "    <tr>\n",
       "      <th>2</th>\n",
       "      <td>2002-01-01</td>\n",
       "      <td>0.0</td>\n",
       "      <td>1</td>\n",
       "      <td>1</td>\n",
       "    </tr>\n",
       "    <tr>\n",
       "      <th>3</th>\n",
       "      <td>2003-01-01</td>\n",
       "      <td>0.0</td>\n",
       "      <td>1</td>\n",
       "      <td>1</td>\n",
       "    </tr>\n",
       "    <tr>\n",
       "      <th>4</th>\n",
       "      <td>2004-01-01</td>\n",
       "      <td>0.0</td>\n",
       "      <td>1</td>\n",
       "      <td>1</td>\n",
       "    </tr>\n",
       "  </tbody>\n",
       "</table>\n",
       "</div>"
      ],
      "text/plain": [
       "         Date  Value  Measurement_Types  Location\n",
       "0  2000-01-01    0.0                  1         1\n",
       "1  2001-01-01    0.0                  1         1\n",
       "2  2002-01-01    0.0                  1         1\n",
       "3  2003-01-01    0.0                  1         1\n",
       "4  2004-01-01    0.0                  1         1"
      ]
     },
     "execution_count": 7,
     "metadata": {},
     "output_type": "execute_result"
    }
   ],
   "source": [
    "# Load the water spring hydrology data\n",
    "df_water_spring = pd.read_csv(\"../data/processed/water_spring/water_spring_hydrology_data_clean.csv\")\n",
    "df_water_spring.head()"
   ]
  },
  {
   "cell_type": "markdown",
   "id": "cd8be5f3",
   "metadata": {},
   "source": [
    "# 3. Definir Features (X) y Variable Target (Y). "
   ]
  },
  {
   "cell_type": "markdown",
   "id": "9d2303b2",
   "metadata": {},
   "source": [
    "Para definir las variables features y la variable target, se considerarán los datos que nos son útiles para visualizar el nivel de agua según la fecha de cada cuerpo de agua, en este caso __\"Value\"__ es la variable target, mientras que el resto de las variables se considerarán variables feature."
   ]
  },
  {
   "cell_type": "markdown",
   "id": "45d6d111",
   "metadata": {},
   "source": [
    "# 4. Dividir data en train y test. "
   ]
  },
  {
   "cell_type": "code",
   "execution_count": 8,
   "id": "b0edf79a",
   "metadata": {},
   "outputs": [],
   "source": [
    "import pandas as pd\n",
    "\n",
    "def split_time_series_by_percentage(df, split_percentage):\n",
    "    \"\"\"\n",
    "    Splits a time series DataFrame into training and testing sets\n",
    "    based on a specified percentage. The DataFrame must be ordered chronologically.\n",
    "\n",
    "    Args:\n",
    "        df (pd.DataFrame): The input time series DataFrame.\n",
    "        split_percentage (float): The percentage of data to use for the training set (e.g., 0.8 for 80%).\n",
    "\n",
    "    Returns:\n",
    "        tuple: A tuple containing the training and testing DataFrames (train_df, test_df).\n",
    "    \"\"\"\n",
    "    if not 0 < split_percentage < 1:\n",
    "        raise ValueError(\"split_percentage must be between 0 and 1.\")\n",
    "\n",
    "    split_point = int(len(df) * split_percentage)\n",
    "    \n",
    "    train_df = df.iloc[:split_point]\n",
    "    test_df = df.iloc[split_point:]\n",
    "    \n",
    "    return train_df, test_df\n",
    "\n",
    "# Example usage:\n",
    "# Assuming 'df' is your time series DataFrame, already sorted by date.\n",
    "# train_data, test_data = split_time_series_by_percentage(df, 0.8)\n",
    "\n",
    "# print(\"Train Data:\")\n",
    "# print(train_data)\n",
    "# print(\"\\nTest Data:\")\n",
    "# print(test_data)"
   ]
  },
  {
   "cell_type": "code",
   "execution_count": null,
   "id": "5b543165",
   "metadata": {},
   "outputs": [],
   "source": [
    "# Split the aquifer data into training and testing sets\n",
    "train_data_aquifers, test_data_aquifers = split_time_series_by_percentage(df_aquifers, 0.8)"
   ]
  },
  {
   "cell_type": "code",
   "execution_count": 10,
   "id": "fe9739b4",
   "metadata": {},
   "outputs": [],
   "source": [
    "# Split the lakes data into training and testing sets\n",
    "train_data_lakes, test_data_lakes = split_time_series_by_percentage(df_lakes, 0.8)"
   ]
  },
  {
   "cell_type": "code",
   "execution_count": 11,
   "id": "ffb59f03",
   "metadata": {},
   "outputs": [],
   "source": [
    "# Split the rivers data into training and testing sets\n",
    "train_data_rivers, test_data_rivers = split_time_series_by_percentage(df_rivers, 0.8)"
   ]
  },
  {
   "cell_type": "code",
   "execution_count": 12,
   "id": "1b1565a3",
   "metadata": {},
   "outputs": [],
   "source": [
    "# Split the water_spring data into training and testing sets\n",
    "train_data_water_spring, test_data_water_spring = split_time_series_by_percentage(df_water_spring, 0.8)"
   ]
  },
  {
   "cell_type": "markdown",
   "id": "56d668c8",
   "metadata": {},
   "source": [
    "# 5. Evaluar modelos e Hiperpárametros."
   ]
  },
  {
   "cell_type": "code",
   "execution_count": 19,
   "id": "0fe2d9be",
   "metadata": {},
   "outputs": [],
   "source": [
    "df_aquifers['Date'] = pd.to_datetime(df_aquifers['Date'], errors='coerce')"
   ]
  },
  {
   "cell_type": "code",
   "execution_count": 20,
   "id": "7e1d084b",
   "metadata": {},
   "outputs": [],
   "source": [
    "df_aquifers['Date'] = df_aquifers['Date'].dt.date"
   ]
  },
  {
   "cell_type": "code",
   "execution_count": 21,
   "id": "8014f4f5",
   "metadata": {},
   "outputs": [],
   "source": [
    "all_data = df_aquifers.set_index('Date')"
   ]
  },
  {
   "cell_type": "code",
   "execution_count": 22,
   "id": "27b58c92",
   "metadata": {},
   "outputs": [],
   "source": [
    "ts = all_data[\"Value\"]"
   ]
  },
  {
   "cell_type": "code",
   "execution_count": 23,
   "id": "a2c90c07",
   "metadata": {},
   "outputs": [
    {
     "data": {
      "text/plain": [
       "Date\n",
       "2002-06-03    0.0\n",
       "2002-06-04    0.0\n",
       "2002-06-05    0.0\n",
       "2002-06-06    0.0\n",
       "2002-06-07    0.0\n",
       "Name: Value, dtype: float64"
      ]
     },
     "execution_count": 23,
     "metadata": {},
     "output_type": "execute_result"
    }
   ],
   "source": [
    "ts.head()"
   ]
  },
  {
   "cell_type": "code",
   "execution_count": 24,
   "id": "d7a2fc3d",
   "metadata": {},
   "outputs": [
    {
     "data": {
      "image/png": "[encoded data removed]",
      "text/plain": [
       "<Figure size 1000x500 with 1 Axes>"
      ]
     },
     "metadata": {},
     "output_type": "display_data"
    }
   ],
   "source": [
    "fig, axis = plt.subplots(figsize = (10, 5))\n",
    "\n",
    "sns.lineplot(data = ts)\n",
    "\n",
    "plt.tight_layout()\n",
    "\n",
    "plt.show()"
   ]
  },
  {
   "cell_type": "markdown",
   "id": "ac86efbb",
   "metadata": {},
   "source": [
    "# 6. Guardar Modelos. "
   ]
  }
 ],
 "metadata": {
  "kernelspec": {
   "display_name": "Python 3",
   "language": "python",
   "name": "python3"
  },
  "language_info": {
   "codemirror_mode": {
    "name": "ipython",
    "version": 3
   },
   "file_extension": ".py",
   "mimetype": "text/x-python",
   "name": "python",
   "nbconvert_exporter": "python",
   "pygments_lexer": "ipython3",
   "version": "3.13.2"
  }
 },
 "nbformat": 4,
 "nbformat_minor": 5
}
